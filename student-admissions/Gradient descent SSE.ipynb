{
 "cells": [
  {
   "cell_type": "markdown",
   "metadata": {},
   "source": [
    "From before we saw that one weight update can be calculated as:\n",
    "\n",
    "\n",
    "$$ Δw_i = ηδx_i  $$\n",
    "\n",
    "$$ -(y-\\hat{y}) \\sigma'(x) $$\n",
    "\n",
    "where η is the learn rate, and with the error term δ as\n",
    "\n",
    "$$ δ = (y − \\hat{y})f′(h) = (y − \\hat{y})f'(∑w_ix_i) $$\n",
    "\n",
    "Remember, in the above equation $$ -(y-\\hat{y}) $$ is the output error, and $$ f′(h) $$\n",
    "refers to the derivative of the activation function, $$ f(h) $$, for example, for the sigmoid function.\n",
    "\n",
    "$$ \\sigma'(x) = \\sigma(x) * (1 - \\sigma(x)) $$\n",
    "\n",
    "We'll call that derivative the output gradient.\n",
    "\n",
    "Below we'll also be using the sigmoid as the activation function $$ f(h) $$."
   ]
  },
  {
   "cell_type": "code",
   "execution_count": 6,
   "metadata": {},
   "outputs": [
    {
     "name": "stdout",
     "output_type": "stream",
     "text": [
      "Neural Network output:\n",
      "0.689974481128\n",
      "Amount of Error:\n",
      "-0.189974481128\n",
      "Change in Weights:\n",
      "[-0.02031869 -0.04063738 -0.06095608 -0.08127477]\n"
     ]
    }
   ],
   "source": [
    "import numpy as np\n",
    "\n",
    "def sigmoid(x):\n",
    "    \"\"\"\n",
    "    Calculate sigmoid\n",
    "    \"\"\"\n",
    "    return 1/(1+np.exp(-x))\n",
    "\n",
    "def sigmoid_prime(x):\n",
    "    \"\"\"\n",
    "    # Derivative of the sigmoid function\n",
    "    \"\"\"\n",
    "    return sigmoid(x) * (1 - sigmoid(x))\n",
    "\n",
    "# learnrate = η\n",
    "learnrate = 0.5\n",
    "x = np.array([1, 2, 3, 4])\n",
    "y = np.array(0.5)\n",
    "\n",
    "# Initial weights\n",
    "w = np.array([0.5, -0.5, 0.3, 0.1])\n",
    "\n",
    "### Calculate one gradient descent step for each weight\n",
    "### Note: Some steps have been consilated, so there are\n",
    "###       fewer variable names than in the above sample code\n",
    "\n",
    "# TODO: Calculate the node's linear combination of inputs and weights\n",
    "h = np.dot(x, w)\n",
    "\n",
    "# TODO: Calculate output of neural network (y_hat) = f(h)\n",
    "nn_output = sigmoid(h)\n",
    "\n",
    "# TODO: Calculate error of neural network (y - y_hat)\n",
    "error = y - nn_output\n",
    "\n",
    "# TODO: Calculate the error term\n",
    "#       Remember, this requires the output gradient, which we haven't\n",
    "#       specifically added a variable for. δ=(y−ŷ)f′(h) \n",
    "#  here we are using sigmoid as the activation function so, f'(h) = σ′(h) = σ(h)∗(1−σ(h))\n",
    "\n",
    "error_term = error * sigmoid_prime(h)\n",
    "\n",
    "# TODO: Calculate change in weights Δwi = ηδxi del_w is a vector with the delta of each weight\n",
    "del_w = learnrate * error_term * x\n",
    "\n",
    "print('Neural Network output:')\n",
    "print(nn_output)\n",
    "print('Amount of Error:')\n",
    "print(error)\n",
    "print('Change in Weights:')\n",
    "print(del_w)"
   ]
  },
  {
   "cell_type": "code",
   "execution_count": null,
   "metadata": {},
   "outputs": [],
   "source": []
  }
 ],
 "metadata": {
  "kernelspec": {
   "display_name": "Python [default]",
   "language": "python",
   "name": "python3"
  },
  "language_info": {
   "codemirror_mode": {
    "name": "ipython",
    "version": 3
   },
   "file_extension": ".py",
   "mimetype": "text/x-python",
   "name": "python",
   "nbconvert_exporter": "python",
   "pygments_lexer": "ipython3",
   "version": "3.6.3"
  }
 },
 "nbformat": 4,
 "nbformat_minor": 2
}
